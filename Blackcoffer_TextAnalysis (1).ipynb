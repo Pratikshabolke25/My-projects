{
  "nbformat": 4,
  "nbformat_minor": 0,
  "metadata": {
    "colab": {
      "provenance": []
    },
    "kernelspec": {
      "name": "python3",
      "display_name": "Python 3"
    },
    "language_info": {
      "name": "python"
    }
  },
  "cells": [
    {
      "cell_type": "code",
      "source": [
        "from google.colab import files\n",
        "uploaded = files.upload()"
      ],
      "metadata": {
        "colab": {
          "base_uri": "https://localhost:8080/",
          "height": 74
        },
        "id": "aZXC1LQp-4rM",
        "outputId": "d75d732b-61ef-4a81-f9ce-8fb9e45654b6"
      },
      "execution_count": null,
      "outputs": [
        {
          "output_type": "display_data",
          "data": {
            "text/plain": [
              "<IPython.core.display.HTML object>"
            ],
            "text/html": [
              "\n",
              "     <input type=\"file\" id=\"files-efc7d3d4-a48a-449c-b605-83f9926f6484\" name=\"files[]\" multiple disabled\n",
              "        style=\"border:none\" />\n",
              "     <output id=\"result-efc7d3d4-a48a-449c-b605-83f9926f6484\">\n",
              "      Upload widget is only available when the cell has been executed in the\n",
              "      current browser session. Please rerun this cell to enable.\n",
              "      </output>\n",
              "      <script>// Copyright 2017 Google LLC\n",
              "//\n",
              "// Licensed under the Apache License, Version 2.0 (the \"License\");\n",
              "// you may not use this file except in compliance with the License.\n",
              "// You may obtain a copy of the License at\n",
              "//\n",
              "//      http://www.apache.org/licenses/LICENSE-2.0\n",
              "//\n",
              "// Unless required by applicable law or agreed to in writing, software\n",
              "// distributed under the License is distributed on an \"AS IS\" BASIS,\n",
              "// WITHOUT WARRANTIES OR CONDITIONS OF ANY KIND, either express or implied.\n",
              "// See the License for the specific language governing permissions and\n",
              "// limitations under the License.\n",
              "\n",
              "/**\n",
              " * @fileoverview Helpers for google.colab Python module.\n",
              " */\n",
              "(function(scope) {\n",
              "function span(text, styleAttributes = {}) {\n",
              "  const element = document.createElement('span');\n",
              "  element.textContent = text;\n",
              "  for (const key of Object.keys(styleAttributes)) {\n",
              "    element.style[key] = styleAttributes[key];\n",
              "  }\n",
              "  return element;\n",
              "}\n",
              "\n",
              "// Max number of bytes which will be uploaded at a time.\n",
              "const MAX_PAYLOAD_SIZE = 100 * 1024;\n",
              "\n",
              "function _uploadFiles(inputId, outputId) {\n",
              "  const steps = uploadFilesStep(inputId, outputId);\n",
              "  const outputElement = document.getElementById(outputId);\n",
              "  // Cache steps on the outputElement to make it available for the next call\n",
              "  // to uploadFilesContinue from Python.\n",
              "  outputElement.steps = steps;\n",
              "\n",
              "  return _uploadFilesContinue(outputId);\n",
              "}\n",
              "\n",
              "// This is roughly an async generator (not supported in the browser yet),\n",
              "// where there are multiple asynchronous steps and the Python side is going\n",
              "// to poll for completion of each step.\n",
              "// This uses a Promise to block the python side on completion of each step,\n",
              "// then passes the result of the previous step as the input to the next step.\n",
              "function _uploadFilesContinue(outputId) {\n",
              "  const outputElement = document.getElementById(outputId);\n",
              "  const steps = outputElement.steps;\n",
              "\n",
              "  const next = steps.next(outputElement.lastPromiseValue);\n",
              "  return Promise.resolve(next.value.promise).then((value) => {\n",
              "    // Cache the last promise value to make it available to the next\n",
              "    // step of the generator.\n",
              "    outputElement.lastPromiseValue = value;\n",
              "    return next.value.response;\n",
              "  });\n",
              "}\n",
              "\n",
              "/**\n",
              " * Generator function which is called between each async step of the upload\n",
              " * process.\n",
              " * @param {string} inputId Element ID of the input file picker element.\n",
              " * @param {string} outputId Element ID of the output display.\n",
              " * @return {!Iterable<!Object>} Iterable of next steps.\n",
              " */\n",
              "function* uploadFilesStep(inputId, outputId) {\n",
              "  const inputElement = document.getElementById(inputId);\n",
              "  inputElement.disabled = false;\n",
              "\n",
              "  const outputElement = document.getElementById(outputId);\n",
              "  outputElement.innerHTML = '';\n",
              "\n",
              "  const pickedPromise = new Promise((resolve) => {\n",
              "    inputElement.addEventListener('change', (e) => {\n",
              "      resolve(e.target.files);\n",
              "    });\n",
              "  });\n",
              "\n",
              "  const cancel = document.createElement('button');\n",
              "  inputElement.parentElement.appendChild(cancel);\n",
              "  cancel.textContent = 'Cancel upload';\n",
              "  const cancelPromise = new Promise((resolve) => {\n",
              "    cancel.onclick = () => {\n",
              "      resolve(null);\n",
              "    };\n",
              "  });\n",
              "\n",
              "  // Wait for the user to pick the files.\n",
              "  const files = yield {\n",
              "    promise: Promise.race([pickedPromise, cancelPromise]),\n",
              "    response: {\n",
              "      action: 'starting',\n",
              "    }\n",
              "  };\n",
              "\n",
              "  cancel.remove();\n",
              "\n",
              "  // Disable the input element since further picks are not allowed.\n",
              "  inputElement.disabled = true;\n",
              "\n",
              "  if (!files) {\n",
              "    return {\n",
              "      response: {\n",
              "        action: 'complete',\n",
              "      }\n",
              "    };\n",
              "  }\n",
              "\n",
              "  for (const file of files) {\n",
              "    const li = document.createElement('li');\n",
              "    li.append(span(file.name, {fontWeight: 'bold'}));\n",
              "    li.append(span(\n",
              "        `(${file.type || 'n/a'}) - ${file.size} bytes, ` +\n",
              "        `last modified: ${\n",
              "            file.lastModifiedDate ? file.lastModifiedDate.toLocaleDateString() :\n",
              "                                    'n/a'} - `));\n",
              "    const percent = span('0% done');\n",
              "    li.appendChild(percent);\n",
              "\n",
              "    outputElement.appendChild(li);\n",
              "\n",
              "    const fileDataPromise = new Promise((resolve) => {\n",
              "      const reader = new FileReader();\n",
              "      reader.onload = (e) => {\n",
              "        resolve(e.target.result);\n",
              "      };\n",
              "      reader.readAsArrayBuffer(file);\n",
              "    });\n",
              "    // Wait for the data to be ready.\n",
              "    let fileData = yield {\n",
              "      promise: fileDataPromise,\n",
              "      response: {\n",
              "        action: 'continue',\n",
              "      }\n",
              "    };\n",
              "\n",
              "    // Use a chunked sending to avoid message size limits. See b/62115660.\n",
              "    let position = 0;\n",
              "    do {\n",
              "      const length = Math.min(fileData.byteLength - position, MAX_PAYLOAD_SIZE);\n",
              "      const chunk = new Uint8Array(fileData, position, length);\n",
              "      position += length;\n",
              "\n",
              "      const base64 = btoa(String.fromCharCode.apply(null, chunk));\n",
              "      yield {\n",
              "        response: {\n",
              "          action: 'append',\n",
              "          file: file.name,\n",
              "          data: base64,\n",
              "        },\n",
              "      };\n",
              "\n",
              "      let percentDone = fileData.byteLength === 0 ?\n",
              "          100 :\n",
              "          Math.round((position / fileData.byteLength) * 100);\n",
              "      percent.textContent = `${percentDone}% done`;\n",
              "\n",
              "    } while (position < fileData.byteLength);\n",
              "  }\n",
              "\n",
              "  // All done.\n",
              "  yield {\n",
              "    response: {\n",
              "      action: 'complete',\n",
              "    }\n",
              "  };\n",
              "}\n",
              "\n",
              "scope.google = scope.google || {};\n",
              "scope.google.colab = scope.google.colab || {};\n",
              "scope.google.colab._files = {\n",
              "  _uploadFiles,\n",
              "  _uploadFilesContinue,\n",
              "};\n",
              "})(self);\n",
              "</script> "
            ]
          },
          "metadata": {}
        },
        {
          "output_type": "stream",
          "name": "stdout",
          "text": [
            "Saving Input.xlsx to Input.xlsx\n"
          ]
        }
      ]
    },
    {
      "cell_type": "code",
      "execution_count": null,
      "metadata": {
        "id": "-U0tA87JirIy"
      },
      "outputs": [],
      "source": [
        "import pandas as pd\n",
        "import numpy as np"
      ]
    },
    {
      "cell_type": "code",
      "source": [
        "cik_list = pd.read_excel(\"Input.xlsx\")\n",
        "max_row, max_col = cik_list.shape\n",
        "print(max_row)\n",
        "\n",
        "pd.set_option('display.max_colwidth',100) # to display full text in column\n",
        "cik_list.head()"
      ],
      "metadata": {
        "colab": {
          "base_uri": "https://localhost:8080/",
          "height": 223
        },
        "id": "59LGCo4Rj5MF",
        "outputId": "ce0ed5a3-fb6d-45d7-f804-0bf683c11faa"
      },
      "execution_count": null,
      "outputs": [
        {
          "output_type": "stream",
          "name": "stdout",
          "text": [
            "114\n"
          ]
        },
        {
          "output_type": "execute_result",
          "data": {
            "text/plain": [
              "   URL_ID  \\\n",
              "0    37.0   \n",
              "1    38.0   \n",
              "2    39.0   \n",
              "3    40.0   \n",
              "4    41.0   \n",
              "\n",
              "                                                                                      URL  \n",
              "0          https://insights.blackcoffer.com/ai-in-healthcare-to-improve-patient-outcomes/  \n",
              "1       https://insights.blackcoffer.com/what-if-the-creation-is-taking-over-the-creator/  \n",
              "2  https://insights.blackcoffer.com/what-jobs-will-robots-take-from-humans-in-the-future/  \n",
              "3  https://insights.blackcoffer.com/will-machine-replace-the-human-in-the-future-of-work/  \n",
              "4                    https://insights.blackcoffer.com/will-ai-replace-us-or-work-with-us/  "
            ],
            "text/html": [
              "\n",
              "  <div id=\"df-c078f999-73c5-4bb4-a998-af3cdd63d58d\">\n",
              "    <div class=\"colab-df-container\">\n",
              "      <div>\n",
              "<style scoped>\n",
              "    .dataframe tbody tr th:only-of-type {\n",
              "        vertical-align: middle;\n",
              "    }\n",
              "\n",
              "    .dataframe tbody tr th {\n",
              "        vertical-align: top;\n",
              "    }\n",
              "\n",
              "    .dataframe thead th {\n",
              "        text-align: right;\n",
              "    }\n",
              "</style>\n",
              "<table border=\"1\" class=\"dataframe\">\n",
              "  <thead>\n",
              "    <tr style=\"text-align: right;\">\n",
              "      <th></th>\n",
              "      <th>URL_ID</th>\n",
              "      <th>URL</th>\n",
              "    </tr>\n",
              "  </thead>\n",
              "  <tbody>\n",
              "    <tr>\n",
              "      <th>0</th>\n",
              "      <td>37.0</td>\n",
              "      <td>https://insights.blackcoffer.com/ai-in-healthcare-to-improve-patient-outcomes/</td>\n",
              "    </tr>\n",
              "    <tr>\n",
              "      <th>1</th>\n",
              "      <td>38.0</td>\n",
              "      <td>https://insights.blackcoffer.com/what-if-the-creation-is-taking-over-the-creator/</td>\n",
              "    </tr>\n",
              "    <tr>\n",
              "      <th>2</th>\n",
              "      <td>39.0</td>\n",
              "      <td>https://insights.blackcoffer.com/what-jobs-will-robots-take-from-humans-in-the-future/</td>\n",
              "    </tr>\n",
              "    <tr>\n",
              "      <th>3</th>\n",
              "      <td>40.0</td>\n",
              "      <td>https://insights.blackcoffer.com/will-machine-replace-the-human-in-the-future-of-work/</td>\n",
              "    </tr>\n",
              "    <tr>\n",
              "      <th>4</th>\n",
              "      <td>41.0</td>\n",
              "      <td>https://insights.blackcoffer.com/will-ai-replace-us-or-work-with-us/</td>\n",
              "    </tr>\n",
              "  </tbody>\n",
              "</table>\n",
              "</div>\n",
              "      <button class=\"colab-df-convert\" onclick=\"convertToInteractive('df-c078f999-73c5-4bb4-a998-af3cdd63d58d')\"\n",
              "              title=\"Convert this dataframe to an interactive table.\"\n",
              "              style=\"display:none;\">\n",
              "        \n",
              "  <svg xmlns=\"http://www.w3.org/2000/svg\" height=\"24px\"viewBox=\"0 0 24 24\"\n",
              "       width=\"24px\">\n",
              "    <path d=\"M0 0h24v24H0V0z\" fill=\"none\"/>\n",
              "    <path d=\"M18.56 5.44l.94 2.06.94-2.06 2.06-.94-2.06-.94-.94-2.06-.94 2.06-2.06.94zm-11 1L8.5 8.5l.94-2.06 2.06-.94-2.06-.94L8.5 2.5l-.94 2.06-2.06.94zm10 10l.94 2.06.94-2.06 2.06-.94-2.06-.94-.94-2.06-.94 2.06-2.06.94z\"/><path d=\"M17.41 7.96l-1.37-1.37c-.4-.4-.92-.59-1.43-.59-.52 0-1.04.2-1.43.59L10.3 9.45l-7.72 7.72c-.78.78-.78 2.05 0 2.83L4 21.41c.39.39.9.59 1.41.59.51 0 1.02-.2 1.41-.59l7.78-7.78 2.81-2.81c.8-.78.8-2.07 0-2.86zM5.41 20L4 18.59l7.72-7.72 1.47 1.35L5.41 20z\"/>\n",
              "  </svg>\n",
              "      </button>\n",
              "      \n",
              "  <style>\n",
              "    .colab-df-container {\n",
              "      display:flex;\n",
              "      flex-wrap:wrap;\n",
              "      gap: 12px;\n",
              "    }\n",
              "\n",
              "    .colab-df-convert {\n",
              "      background-color: #E8F0FE;\n",
              "      border: none;\n",
              "      border-radius: 50%;\n",
              "      cursor: pointer;\n",
              "      display: none;\n",
              "      fill: #1967D2;\n",
              "      height: 32px;\n",
              "      padding: 0 0 0 0;\n",
              "      width: 32px;\n",
              "    }\n",
              "\n",
              "    .colab-df-convert:hover {\n",
              "      background-color: #E2EBFA;\n",
              "      box-shadow: 0px 1px 2px rgba(60, 64, 67, 0.3), 0px 1px 3px 1px rgba(60, 64, 67, 0.15);\n",
              "      fill: #174EA6;\n",
              "    }\n",
              "\n",
              "    [theme=dark] .colab-df-convert {\n",
              "      background-color: #3B4455;\n",
              "      fill: #D2E3FC;\n",
              "    }\n",
              "\n",
              "    [theme=dark] .colab-df-convert:hover {\n",
              "      background-color: #434B5C;\n",
              "      box-shadow: 0px 1px 3px 1px rgba(0, 0, 0, 0.15);\n",
              "      filter: drop-shadow(0px 1px 2px rgba(0, 0, 0, 0.3));\n",
              "      fill: #FFFFFF;\n",
              "    }\n",
              "  </style>\n",
              "\n",
              "      <script>\n",
              "        const buttonEl =\n",
              "          document.querySelector('#df-c078f999-73c5-4bb4-a998-af3cdd63d58d button.colab-df-convert');\n",
              "        buttonEl.style.display =\n",
              "          google.colab.kernel.accessAllowed ? 'block' : 'none';\n",
              "\n",
              "        async function convertToInteractive(key) {\n",
              "          const element = document.querySelector('#df-c078f999-73c5-4bb4-a998-af3cdd63d58d');\n",
              "          const dataTable =\n",
              "            await google.colab.kernel.invokeFunction('convertToInteractive',\n",
              "                                                     [key], {});\n",
              "          if (!dataTable) return;\n",
              "\n",
              "          const docLinkHtml = 'Like what you see? Visit the ' +\n",
              "            '<a target=\"_blank\" href=https://colab.research.google.com/notebooks/data_table.ipynb>data table notebook</a>'\n",
              "            + ' to learn more about interactive tables.';\n",
              "          element.innerHTML = '';\n",
              "          dataTable['output_type'] = 'display_data';\n",
              "          await google.colab.output.renderOutput(dataTable, element);\n",
              "          const docLink = document.createElement('div');\n",
              "          docLink.innerHTML = docLinkHtml;\n",
              "          element.appendChild(docLink);\n",
              "        }\n",
              "      </script>\n",
              "    </div>\n",
              "  </div>\n",
              "  "
            ]
          },
          "metadata": {},
          "execution_count": 8
        }
      ]
    },
    {
      "cell_type": "code",
      "source": [
        "cik_list.URL.head()"
      ],
      "metadata": {
        "colab": {
          "base_uri": "https://localhost:8080/"
        },
        "id": "Q2SY0WF6A-re",
        "outputId": "5bb17502-135a-44df-c256-ed43f531dacc"
      },
      "execution_count": null,
      "outputs": [
        {
          "output_type": "execute_result",
          "data": {
            "text/plain": [
              "0            https://insights.blackcoffer.com/ai-in-healthcare-to-improve-patient-outcomes/\n",
              "1         https://insights.blackcoffer.com/what-if-the-creation-is-taking-over-the-creator/\n",
              "2    https://insights.blackcoffer.com/what-jobs-will-robots-take-from-humans-in-the-future/\n",
              "3    https://insights.blackcoffer.com/will-machine-replace-the-human-in-the-future-of-work/\n",
              "4                      https://insights.blackcoffer.com/will-ai-replace-us-or-work-with-us/\n",
              "Name: URL, dtype: object"
            ]
          },
          "metadata": {},
          "execution_count": 10
        }
      ]
    },
    {
      "cell_type": "code",
      "source": [
        "#adding the initial structure of the link in secfname\n",
        "link = 'https://www.sec.gov/Archives/'\n",
        "cik_list.URL = link+cik_list.URL\n",
        "cik_list.URL.head()"
      ],
      "metadata": {
        "colab": {
          "base_uri": "https://localhost:8080/"
        },
        "id": "KgFeaBwRB6RT",
        "outputId": "2c0af2ea-9903-4491-a809-ad7add9b2fea"
      },
      "execution_count": null,
      "outputs": [
        {
          "output_type": "execute_result",
          "data": {
            "text/plain": [
              "0    https://www.sec.gov/Archives/https://insights.blackcoffer.com/ai-in-healthcare-to-improve-patien...\n",
              "1    https://www.sec.gov/Archives/https://insights.blackcoffer.com/what-if-the-creation-is-taking-ove...\n",
              "2    https://www.sec.gov/Archives/https://insights.blackcoffer.com/what-jobs-will-robots-take-from-hu...\n",
              "3    https://www.sec.gov/Archives/https://insights.blackcoffer.com/will-machine-replace-the-human-in-...\n",
              "4      https://www.sec.gov/Archives/https://insights.blackcoffer.com/will-ai-replace-us-or-work-with-us/\n",
              "Name: URL, dtype: object"
            ]
          },
          "metadata": {},
          "execution_count": 11
        }
      ]
    },
    {
      "cell_type": "code",
      "source": [
        "#varies imports\n",
        "\n",
        "import requests\n",
        "import re, string, unicodedata\n",
        "import nltk\n",
        "from bs4 import BeautifulSoup\n",
        "from nltk import word_tokenize, sent_tokenize\n",
        "from nltk.corpus import stopwords\n",
        "from nltk.stem import LancasterStemmer, WordNetLemmatizer"
      ],
      "metadata": {
        "id": "RUPRvDMODSMT"
      },
      "execution_count": null,
      "outputs": []
    },
    {
      "cell_type": "code",
      "source": [
        "#making the stopword set from basic english and the given list of stopwords\n",
        "nltk.download('stopwords')\n",
        "nltk.download('punkt')\n",
        "stopset = set(w.upper() for w in stopwords.words('english'))"
      ],
      "metadata": {
        "colab": {
          "base_uri": "https://localhost:8080/"
        },
        "id": "vyNnXAsxDe-L",
        "outputId": "5d6ae756-195a-4322-ffd9-bfd2822f0cce"
      },
      "execution_count": null,
      "outputs": [
        {
          "output_type": "stream",
          "name": "stderr",
          "text": [
            "[nltk_data] Downloading package stopwords to /root/nltk_data...\n",
            "[nltk_data]   Unzipping corpora/stopwords.zip.\n",
            "[nltk_data] Downloading package punkt to /root/nltk_data...\n",
            "[nltk_data]   Unzipping tokenizers/punkt.zip.\n"
          ]
        }
      ]
    },
    {
      "cell_type": "code",
      "source": [
        "#adding more stopwords from text file of stopwords\n",
        "import glob\n",
        "path = \"StopWords*.txt\"\n",
        "glob.glob(path)\n",
        "for filename in glob.glob(path):\n",
        "    with open(filename, 'r') as f:\n",
        "        text = f.read()\n",
        "        text = re.sub(r\"\\s+\\|\\s+[\\w]*\" , \"\", text)        \n",
        "        stopset.update(text.upper().split())\n",
        "        #print(len(stopset))"
      ],
      "metadata": {
        "id": "NOGbPOvQDfJh"
      },
      "execution_count": null,
      "outputs": []
    },
    {
      "cell_type": "code",
      "source": [
        "# syllables count (will be used in complex word count)\n",
        "from nltk.corpus import cmudict\n",
        "nltk.download('cmudict')\n",
        "d = cmudict.dict()\n",
        "\n",
        "def syllables(word):\n",
        "    #referred from stackoverflow.com/questions/14541303/count-the-number-of-syllables-in-a-word\n",
        "    count = 0\n",
        "    vowels = 'aeiouy'\n",
        "    word = word.lower()\n",
        "    if word[0] in vowels:\n",
        "        count +=1\n",
        "    for index in range(1,len(word)):\n",
        "        if word[index] in vowels and word[index-1] not in vowels:\n",
        "            count +=1\n",
        "    if word.endswith('e'):\n",
        "        count -= 1\n",
        "    if word.endswith('le'):\n",
        "        count+=1\n",
        "    if count == 0:\n",
        "        count +=1\n",
        "    return count\n",
        "\n",
        "def nsyl(word):\n",
        "    try:\n",
        "        return max([len(list(y for y in x if y[-1].isdigit())) for x in d[word.lower()]])\n",
        "    except KeyError:\n",
        "        #if word not found in cmudict\n",
        "        return syllables(word)"
      ],
      "metadata": {
        "colab": {
          "base_uri": "https://localhost:8080/"
        },
        "id": "9bLtTeI6DfMq",
        "outputId": "7730500e-860b-4a7d-abc6-a9e8369a59a1"
      },
      "execution_count": null,
      "outputs": [
        {
          "output_type": "stream",
          "name": "stderr",
          "text": [
            "[nltk_data] Downloading package cmudict to /root/nltk_data...\n",
            "[nltk_data]   Unzipping corpora/cmudict.zip.\n"
          ]
        }
      ]
    },
    {
      "cell_type": "code",
      "source": [
        "# other usefull functions\n",
        "def strip_html(text):\n",
        "    soup = BeautifulSoup(text, \"html.parser\")\n",
        "    return soup.get_text()\n",
        "\n",
        "def remove_between_square_brackets(text):\n",
        "    return re.sub('\\[[^]]*\\]', '', text)\n",
        "\n",
        "def remove_digits(text):\n",
        "    return re.sub('[\\d%/$]', '', text)\n",
        "\n",
        "def denoise_text(text):\n",
        "    text = strip_html(text)\n",
        "    text = remove_between_square_brackets(text)\n",
        "    text = remove_digits(text)\n",
        "    return text\n",
        "\n",
        "def remove_non_ascii(words):\n",
        "    \"\"\"Remove non-ASCII characters from list of tokenized words\"\"\"\n",
        "    new_words = []\n",
        "    for word in words:\n",
        "        new_word = unicodedata.normalize('NFKD', word).encode('ascii', 'ignore').decode('utf-8', 'ignore')\n",
        "        new_words.append(new_word)\n",
        "    return new_words\n",
        "\n",
        "def to_upper_case(words):\n",
        "    \"\"\"Convert all characters to lowercase from list of tokenized words\"\"\"\n",
        "    new_words = []\n",
        "    for word in words:\n",
        "        new_word = word.upper()\n",
        "        new_words.append(new_word)\n",
        "    return new_words\n",
        "\n",
        "def remove_punctuation(words):\n",
        "    \"\"\"Remove punctuation from list of tokenized words\"\"\"\n",
        "    new_words = []\n",
        "    for word in words:\n",
        "        new_word = re.sub(r'[^\\w\\s]', '', word)\n",
        "        if new_word != '':\n",
        "            new_words.append(new_word)\n",
        "    return new_words\n",
        "\n",
        "\n",
        "def remove_stopwords(words):\n",
        "    \"\"\"Remove stop words from list of tokenized words\"\"\"\n",
        "    new_words = []\n",
        "    for word in words:\n",
        "        if word not in stopset:\n",
        "            new_words.append(word)\n",
        "    return new_words\n",
        "\n",
        "# def stem_words(words):\n",
        "#     \"\"\"Stem words in list of tokenized words\"\"\"\n",
        "#     stemmer = LancasterStemmer()\n",
        "#     stems = []\n",
        "#     for word in words:\n",
        "#         stem = stemmer.stem(word)\n",
        "#         stems.append(stem)\n",
        "#     return stems\n",
        "\n",
        "# def lemmatize_verbs(words):\n",
        "#     \"\"\"Lemmatize verbs in list of tokenized words\"\"\"\n",
        "#     lemmatizer = WordNetLemmatizer()\n",
        "#     lemmas = []\n",
        "#     for word in words:\n",
        "#         lemma = lemmatizer.lemmatize(word, pos='v')\n",
        "#         lemmas.append(lemma)\n",
        "#     return lemmas\n",
        "\n",
        "def normalize(words):\n",
        "    words = remove_non_ascii(words)\n",
        "    words = to_upper_case(words)\n",
        "    words = remove_punctuation(words)\n",
        "#     words = replace_numbers(words)\n",
        "    words = remove_stopwords(words)\n",
        "    return words\n",
        "\n",
        "# def stem_and_lemmatize(words):\n",
        "#     stems = stem_words(words)\n",
        "#     lemmas = lemmatize_verbs(words)\n",
        "#     return stems, lemmas"
      ],
      "metadata": {
        "id": "o_79x8dHDfQF"
      },
      "execution_count": null,
      "outputs": []
    },
    {
      "cell_type": "code",
      "source": [
        "# section names\n",
        "MDA = \"Management's Discussion and Analysis\"\n",
        "QQDMR = \"Quantitative and Qualitative Disclosures about Market Risk\"\n",
        "RF = \"Risk Factors\"\n",
        "section_name = ['MDA','QQDMR',\"RF\"]\n",
        "section = [MDA.upper(),QQDMR.upper(),RF.upper()]\n",
        "variables = ['positive_score','negative_score','polarity_score','average_sentence_length', 'percentage_of_complex_words',\\\n",
        "                   'fog_index','complex_word_count','word_count','uncertainty_score','constraining_score', 'positive_word_proportion',\\\n",
        "                   'negative_word_proportion', 'uncertainty_word_proportion', 'constraining_word_proportion' ]"
      ],
      "metadata": {
        "id": "XVchc3jKDfS9"
      },
      "execution_count": null,
      "outputs": []
    },
    {
      "cell_type": "code",
      "source": [
        "import itertools\n",
        "\n",
        "constraining_words_whole_report = pd.Series(name='constraining_words_whole_report')\n",
        "\n",
        "df_col = [sec.lower() + '_' + var for sec,var in itertools.product(section_name,variables) ]\n",
        "df = pd.DataFrame(columns=df_col)"
      ],
      "metadata": {
        "colab": {
          "base_uri": "https://localhost:8080/"
        },
        "id": "OFdwsI6-DfV9",
        "outputId": "696de52d-6e98-431a-892e-34bfe7c75a34"
      },
      "execution_count": null,
      "outputs": [
        {
          "output_type": "stream",
          "name": "stderr",
          "text": [
            "/usr/local/lib/python3.7/dist-packages/ipykernel_launcher.py:3: DeprecationWarning: The default dtype for empty Series will be 'object' instead of 'float64' in a future version. Specify a dtype explicitly to silence this warning.\n",
            "  This is separate from the ipykernel package so we can avoid doing imports until\n"
          ]
        }
      ]
    },
    {
      "cell_type": "code",
      "source": [
        "df.shape"
      ],
      "metadata": {
        "colab": {
          "base_uri": "https://localhost:8080/"
        },
        "id": "fsvEbOS3DfZY",
        "outputId": "374666ce-4e77-4f2d-8142-4dc2d0595664"
      },
      "execution_count": null,
      "outputs": [
        {
          "output_type": "execute_result",
          "data": {
            "text/plain": [
              "(0, 42)"
            ]
          },
          "metadata": {},
          "execution_count": 19
        }
      ]
    },
    {
      "cell_type": "code",
      "source": [
        "cik_list.loc[64]"
      ],
      "metadata": {
        "colab": {
          "base_uri": "https://localhost:8080/"
        },
        "id": "Qdh8HFckDfi1",
        "outputId": "4cd4413c-cf40-4714-9f9b-8df2ad3ca35f"
      },
      "execution_count": null,
      "outputs": [
        {
          "output_type": "execute_result",
          "data": {
            "text/plain": [
              "URL_ID                                                                                        101.0\n",
              "URL       https://www.sec.gov/Archives/https://insights.blackcoffer.com/travel-and-tourism-outlook/\n",
              "Name: 64, dtype: object"
            ]
          },
          "metadata": {},
          "execution_count": 21
        }
      ]
    },
    {
      "cell_type": "code",
      "source": [
        "import itertools\n",
        "for i in range(max_row):\n",
        "    #print(i)\n",
        "    file_name = './form/form' + str(i)\n",
        "    text = open(file_name,'r').read()\n",
        "    print('reading..',end = \" \")\n",
        "    \n",
        "    #constraining_words_whole_report\n",
        "    \n",
        "#     constraining_words_whole_report_count = 0\n",
        "#     for word in denoise_text(text).split():\n",
        "#         if word in constraining_dict:\n",
        "#             constraining_words_whole_report_count += 1\n",
        "#     print('here...',end = \"  \")\n",
        "#     constraining_words_whole_report.loc[i] = constraining_words_whole_report_count\n",
        "    \n",
        "    ####################################\n",
        "    df.loc[i] = np.zeros(42)\n",
        "    # other variable per sections\n",
        "    for j in range(3):\n",
        "        if i in [63,64]:\n",
        "            continue\n",
        "        print(i,j,sep= '|',end = \" \")\n",
        "        exp = r\".*(?P<start>ITEM [\\d]\\. \" + re.escape(section[j]) + r\")(?P<MDA>.*)(?P<body>[\\s\\S]*)(?P<end>ITEM \\d|SIGNATURES)\"\n",
        "        regexp = re.compile(exp)\n",
        "        s = regexp.search(text)\n",
        "        \n",
        "        if s:\n",
        "            data = s.group('body')\n",
        "            text = denoise_text(data)\n",
        "            sent_list = sent_tokenize(text)\n",
        "            sentence_length = len(sent_list)\n",
        "\n",
        "            sample = text.split()\n",
        "            sample = normalize(sample)\n",
        "            word_count = len(sample)\n",
        "            complex_word_count = 0\n",
        "            \n",
        "            for word in sample:\n",
        "                if nsyl(word.lower()) > 2:\n",
        "                    complex_word_count += 1\n",
        "            \n",
        "            average_sentence_length = word_count/sentence_length\n",
        "            percentage_of_complex_words = complex_word_count/word_count\n",
        "            fog_index = 0.4 * (average_sentence_length + percentage_of_complex_words)\n",
        "            \n",
        "            positive_score = 0\n",
        "            negative_score = 0\n",
        "            uncertainty_score = 0\n",
        "            constraining_score = 0\n",
        "            for word in sample:\n",
        "                if word in master_dict.index:\n",
        "                    #print(\"is here\")\n",
        "                    if master_dict.loc[word].Positive > 0:\n",
        "                        #print(\"positive\")\n",
        "                        positive_score += 1\n",
        "                    if master_dict.loc[word].Negative > 0:\n",
        "                        negative_score += 1\n",
        "                    if word in uncertainty_dict:\n",
        "                        uncertainty_score += 1\n",
        "                    if word in constraining_dict:\n",
        "                        constraining_score += 1\n",
        "            #print(positive_score)\n",
        "            polarity_score = (positive_score-negative_score)/(positive_score + negative_score + .000001)\n",
        "            positive_word_proportion = positive_score/word_count\n",
        "            negative_word_proportion = negative_score/word_count\n",
        "            uncertainty_word_proportion = uncertainty_score/word_count\n",
        "            constraining_word_proportion = constraining_score/word_count\n",
        "            \n",
        "            df.loc[i][section_name[j].lower() + \"_positive_score\"] = positive_score\n",
        "            df.loc[i][section_name[j].lower() + \"_negative_score\"] = negative_score\n",
        "            df.loc[i][section_name[j].lower() + \"_polarity_score\"] = polarity_score\n",
        "            df.loc[i][section_name[j].lower() + \"_average_sentence_length\"] = average_sentence_length\n",
        "            df.loc[i][section_name[j].lower() + \"_percentage_of_complex_words\"] = percentage_of_complex_words\n",
        "            df.loc[i][section_name[j].lower() + \"_fog_index\"] = fog_index\n",
        "            df.loc[i][section_name[j].lower() + \"_complex_word_count\"] = complex_word_count\n",
        "            df.loc[i][section_name[j].lower() + \"_word_count\"] = word_count\n",
        "            df.loc[i][section_name[j].lower() + \"_uncertainty_score\"] = uncertainty_score\n",
        "            df.loc[i][section_name[j].lower() + \"_constraining_score\"] = constraining_score\n",
        "            df.loc[i][section_name[j].lower() + \"_positive_word_proportion\"] = positive_word_proportion\n",
        "            df.loc[i][section_name[j].lower() + \"_negative_word_proportion\"] = negative_word_proportion\n",
        "            df.loc[i][section_name[j].lower() + \"_uncertainty_word_proportion\"] = uncertainty_word_proportion\n",
        "            df.loc[i][section_name[j].lower() + \"_constraining_word_proportion\"] = constraining_word_proportion        \n",
        "        \n"
      ],
      "metadata": {
        "colab": {
          "base_uri": "https://localhost:8080/",
          "height": 235
        },
        "id": "Fr4bXgcTKC3O",
        "outputId": "cc1ffa62-2727-4657-c953-23a7d4b62082"
      },
      "execution_count": null,
      "outputs": [
        {
          "output_type": "error",
          "ename": "FileNotFoundError",
          "evalue": "ignored",
          "traceback": [
            "\u001b[0;31m---------------------------------------------------------------------------\u001b[0m",
            "\u001b[0;31mFileNotFoundError\u001b[0m                         Traceback (most recent call last)",
            "\u001b[0;32m<ipython-input-27-6ecf1f31ef32>\u001b[0m in \u001b[0;36m<module>\u001b[0;34m\u001b[0m\n\u001b[1;32m      3\u001b[0m     \u001b[0;31m#print(i)\u001b[0m\u001b[0;34m\u001b[0m\u001b[0;34m\u001b[0m\u001b[0;34m\u001b[0m\u001b[0m\n\u001b[1;32m      4\u001b[0m     \u001b[0mfile_name\u001b[0m \u001b[0;34m=\u001b[0m \u001b[0;34m'./form/form'\u001b[0m \u001b[0;34m+\u001b[0m \u001b[0mstr\u001b[0m\u001b[0;34m(\u001b[0m\u001b[0mi\u001b[0m\u001b[0;34m)\u001b[0m\u001b[0;34m\u001b[0m\u001b[0;34m\u001b[0m\u001b[0m\n\u001b[0;32m----> 5\u001b[0;31m     \u001b[0mtext\u001b[0m \u001b[0;34m=\u001b[0m \u001b[0mopen\u001b[0m\u001b[0;34m(\u001b[0m\u001b[0mfile_name\u001b[0m\u001b[0;34m,\u001b[0m\u001b[0;34m'r'\u001b[0m\u001b[0;34m)\u001b[0m\u001b[0;34m.\u001b[0m\u001b[0mread\u001b[0m\u001b[0;34m(\u001b[0m\u001b[0;34m)\u001b[0m\u001b[0;34m\u001b[0m\u001b[0;34m\u001b[0m\u001b[0m\n\u001b[0m\u001b[1;32m      6\u001b[0m     \u001b[0mprint\u001b[0m\u001b[0;34m(\u001b[0m\u001b[0;34m'reading..'\u001b[0m\u001b[0;34m,\u001b[0m\u001b[0mend\u001b[0m \u001b[0;34m=\u001b[0m \u001b[0;34m\" \"\u001b[0m\u001b[0;34m)\u001b[0m\u001b[0;34m\u001b[0m\u001b[0;34m\u001b[0m\u001b[0m\n\u001b[1;32m      7\u001b[0m \u001b[0;34m\u001b[0m\u001b[0m\n",
            "\u001b[0;31mFileNotFoundError\u001b[0m: [Errno 2] No such file or directory: './form/form0'"
          ]
        }
      ]
    },
    {
      "cell_type": "code",
      "source": [
        "for i in range(max_row):\n",
        "    print(i,end = \" \")\n",
        "    file_name = './form/form' + str(i)\n",
        "    text = open(file_name,'r').read()\n",
        "    print('reading..',end = \" \")\n",
        "    \n",
        "    #constraining_words_whole_report\n",
        "    constraining_words_whole_report.loc[i] = 0\n",
        "    constraining_words_whole_report_count = 0\n",
        "    for word in denoise_text(text).split():\n",
        "        if word in constraining_dict:\n",
        "            constraining_words_whole_report_count += 1\n",
        "    print('here...',end = \"  \")\n",
        "    constraining_words_whole_report.loc[i] = constraining_words_whole_report_count"
      ],
      "metadata": {
        "id": "N73jIPNTqvIU"
      },
      "execution_count": null,
      "outputs": []
    },
    {
      "cell_type": "code",
      "source": [
        "# joing the files for output formate\n",
        "\n",
        "df = pd.concat([cik_list,df,constraining_words_whole_report], axis = 1)\n",
        "df.shape"
      ],
      "metadata": {
        "id": "Jiul_Ztgqvxr"
      },
      "execution_count": null,
      "outputs": []
    },
    {
      "cell_type": "code",
      "source": [
        "df.head(10)\n"
      ],
      "metadata": {
        "id": "zrSPllr9qv1I"
      },
      "execution_count": null,
      "outputs": []
    },
    {
      "cell_type": "code",
      "source": [
        "writer = pd.ExcelWriter('./output.xlsx')\n",
        "df.to_excel(writer, sheet_name='output')"
      ],
      "metadata": {
        "id": "kbAWJk_OrBsI"
      },
      "execution_count": null,
      "outputs": []
    }
  ]
}